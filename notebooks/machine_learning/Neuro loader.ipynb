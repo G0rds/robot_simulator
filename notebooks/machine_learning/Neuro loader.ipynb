{
  "nbformat": 4,
  "nbformat_minor": 0,
  "metadata": {
    "colab": {
      "name": "Neuro loader.ipynb",
      "provenance": [],
      "collapsed_sections": []
    },
    "kernelspec": {
      "name": "python3",
      "display_name": "Python 3"
    }
  },
  "cells": [
    {
      "cell_type": "code",
      "metadata": {
        "id": "Da1xzTYr1XCW",
        "colab_type": "code",
        "colab": {}
      },
      "source": [
        "from google.colab import drive\n",
        "drive.mount('/content/drive')"
      ],
      "execution_count": 0,
      "outputs": []
    },
    {
      "cell_type": "code",
      "metadata": {
        "id": "SHqOLYpC1g_V",
        "colab_type": "code",
        "colab": {}
      },
      "source": [
        "from fastai.basics import *\n",
        "from fastai.gen_doc.nbdoc import *\n",
        "from fastai.vision import *"
      ],
      "execution_count": 0,
      "outputs": []
    },
    {
      "cell_type": "code",
      "metadata": {
        "id": "qoBhJ2lR1i9s",
        "colab_type": "code",
        "colab": {}
      },
      "source": [
        "def normy(y):\n",
        "    if y.shape[0] == 1:\n",
        "        y = (y//255)\n",
        "    return y\n",
        "\n",
        "hmmm = load_learner('/content/drive/My Drive/Neuro/')"
      ],
      "execution_count": 0,
      "outputs": []
    },
    {
      "cell_type": "code",
      "metadata": {
        "id": "LuZTBZRr25rG",
        "colab_type": "code",
        "colab": {}
      },
      "source": [
        "img = open_image('/content/drive/My Drive/111.PNG')"
      ],
      "execution_count": 0,
      "outputs": []
    },
    {
      "cell_type": "code",
      "metadata": {
        "id": "GOXCy0-dHy3g",
        "colab_type": "code",
        "colab": {}
      },
      "source": [
        "hmmm.predict(img)[0]"
      ],
      "execution_count": 0,
      "outputs": []
    },
    {
      "cell_type": "code",
      "metadata": {
        "id": "AvlhrXd7lJCR",
        "colab_type": "code",
        "colab": {}
      },
      "source": [
        "img.show(y=hmmm.predict(img)[0])"
      ],
      "execution_count": 0,
      "outputs": []
    }
  ]
}
{
  "nbformat": 4,
  "nbformat_minor": 0,
  "metadata": {
    "colab": {
      "name": "Neuro creator.ipynb",
      "provenance": [],
      "collapsed_sections": []
    },
    "kernelspec": {
      "name": "python3",
      "display_name": "Python 3"
    },
    "accelerator": "GPU"
  },
  "cells": [
    {
      "cell_type": "code",
      "metadata": {
        "id": "jnbPylGC01KX",
        "colab_type": "code",
        "colab": {
          "base_uri": "https://localhost:8080/",
          "height": 34
        },
        "outputId": "dfce1f2a-7d26-4913-b1dc-1bc0ef1b3a74"
      },
      "source": [
        "from google.colab import drive\n",
        "drive.mount('/content/drive')"
      ],
      "execution_count": 2,
      "outputs": [
        {
          "output_type": "stream",
          "text": [
            "Drive already mounted at /content/drive; to attempt to forcibly remount, call drive.mount(\"/content/drive\", force_remount=True).\n"
          ],
          "name": "stdout"
        }
      ]
    },
    {
      "cell_type": "code",
      "metadata": {
        "id": "XqL3BhfExmmP",
        "colab_type": "code",
        "colab": {}
      },
      "source": [
        "from fastai.basics import *\n",
        "from fastai.gen_doc.nbdoc import *\n",
        "from fastai.vision import *"
      ],
      "execution_count": 0,
      "outputs": []
    },
    {
      "cell_type": "code",
      "metadata": {
        "id": "jVO_-3fKzCLm",
        "colab_type": "code",
        "colab": {}
      },
      "source": [
        "def normy(y):\n",
        "    if y.shape[0] == 1:\n",
        "        y = (y//255)\n",
        "    return y\n",
        "\n",
        "norm_y = TfmPixel(normy)\n",
        "\n",
        "_tfms = get_transforms()\n",
        "tfms = [_tfms[0]+[norm_y()], _tfms[1]+[norm_y()]]\n",
        "\n",
        "data = (SegmentationItemList.from_folder('/content/drive/My Drive/Images/X')\n",
        "       .split_by_rand_pct()\n",
        "       .label_from_func(lambda path: path.parent.parent/'Y'/f'{path.stem[:]}.png', classes=np.array(['Background','Traffic Light']))\n",
        "       .transform(tfms, tfm_y=True)\n",
        "       .databunch(bs=16, path='/content/drive/My Drive/Neuro')\n",
        "       .normalize(imagenet_stats))"
      ],
      "execution_count": 0,
      "outputs": []
    },
    {
      "cell_type": "code",
      "metadata": {
        "id": "XVQNtugHPGVx",
        "colab_type": "code",
        "colab": {}
      },
      "source": [
        "learn = unet_learner(data, models.resnet18, metrics=dice)\n",
        "learn.fit_one_cycle(4,1e-2)\n",
        "learn.save('mini_train')\n",
        "learn.export()"
      ],
      "execution_count": 0,
      "outputs": []
    },
    {
      "cell_type": "code",
      "metadata": {
        "id": "MC9jgyAB6mH2",
        "colab_type": "code",
        "colab": {}
      },
      "source": [
        "learn.show_results(ds_type=DatasetType.Train, rows=4, figsize=(10,10))"
      ],
      "execution_count": 0,
      "outputs": []
    }
  ]
}